{
 "cells": [
  {
   "cell_type": "code",
   "execution_count": 12,
   "metadata": {},
   "outputs": [],
   "source": [
    "import pandas as pd\n",
    "import numpy as np"
   ]
  },
  {
   "cell_type": "code",
   "execution_count": 2,
   "metadata": {},
   "outputs": [
    {
     "name": "stderr",
     "output_type": "stream",
     "text": [
      "2024-09-14 09:00:36.217241: I tensorflow/core/platform/cpu_feature_guard.cc:182] This TensorFlow binary is optimized to use available CPU instructions in performance-critical operations.\n",
      "To enable the following instructions: AVX2 FMA, in other operations, rebuild TensorFlow with the appropriate compiler flags.\n"
     ]
    }
   ],
   "source": [
    "import tensorflow as tf"
   ]
  },
  {
   "cell_type": "code",
   "execution_count": 3,
   "metadata": {},
   "outputs": [],
   "source": [
    "from tensorflow.keras.preprocessing.text import one_hot"
   ]
  },
  {
   "cell_type": "code",
   "execution_count": 4,
   "metadata": {},
   "outputs": [],
   "source": [
    "###  exp sentences\n",
    "sent=[  'the glass of milk',\n",
    "     'the glass of juice',\n",
    "     'the cup of tea',\n",
    "    'I am a good boy',\n",
    "     'I am a good developer',\n",
    "     'understand the meaning of words',\n",
    "     'your videos are good',]"
   ]
  },
  {
   "cell_type": "code",
   "execution_count": 6,
   "metadata": {},
   "outputs": [],
   "source": [
    "## Define the Vocab Size\n",
    "voc_size=10000"
   ]
  },
  {
   "cell_type": "code",
   "execution_count": 7,
   "metadata": {},
   "outputs": [
    {
     "data": {
      "text/plain": [
       "[[3844, 3148, 6662, 7607],\n",
       " [3844, 3148, 6662, 4626],\n",
       " [3844, 6007, 6662, 6906],\n",
       " [9692, 9455, 3093, 7717, 3419],\n",
       " [9692, 9455, 3093, 7717, 9464],\n",
       " [8584, 3844, 2458, 6662, 5032],\n",
       " [595, 3477, 1776, 7717]]"
      ]
     },
     "execution_count": 7,
     "metadata": {},
     "output_type": "execute_result"
    }
   ],
   "source": [
    "##  one hot representation\n",
    "\n",
    "one_hot_repr=[one_hot(words,voc_size) for words in sent]\n",
    "one_hot_repr "
   ]
  },
  {
   "cell_type": "markdown",
   "metadata": {},
   "source": [
    "These all the indexes are shown         \n",
    "there some problem are there so we will use these indexs"
   ]
  },
  {
   "cell_type": "code",
   "execution_count": 11,
   "metadata": {},
   "outputs": [],
   "source": [
    "## Now we will take all words sentece by sentence and pass through the enbedding layer\n",
    " \n",
    "## word Enbedding Representation\n",
    "\n",
    "from tensorflow.keras.layers import Embedding\n",
    "##from tensorflow.keras.processing.sequence import pad_sequences\n",
    "from tensorflow.keras.utils import pad_sequences\n",
    "from tensorflow.keras.models import Sequential\n",
    "\n"
   ]
  },
  {
   "cell_type": "markdown",
   "metadata": {},
   "source": [
    "in our sentence list some of them have 4 words some 5 words to passes through we need to have a fixed size for that the pad_sequences will work\n",
    "\n",
    "we are setting a length words of 8 "
   ]
  },
  {
   "cell_type": "code",
   "execution_count": 13,
   "metadata": {},
   "outputs": [
    {
     "data": {
      "text/plain": [
       "array([[   0,    0,    0,    0, 3844, 3148, 6662, 7607],\n",
       "       [   0,    0,    0,    0, 3844, 3148, 6662, 4626],\n",
       "       [   0,    0,    0,    0, 3844, 6007, 6662, 6906],\n",
       "       [   0,    0,    0, 9692, 9455, 3093, 7717, 3419],\n",
       "       [   0,    0,    0, 9692, 9455, 3093, 7717, 9464],\n",
       "       [   0,    0,    0, 8584, 3844, 2458, 6662, 5032],\n",
       "       [   0,    0,    0,    0,  595, 3477, 1776, 7717]], dtype=int32)"
      ]
     },
     "execution_count": 13,
     "metadata": {},
     "output_type": "execute_result"
    }
   ],
   "source": [
    "sent_length= 8\n",
    "embedded_docs= pad_sequences(one_hot_repr, padding='pre',maxlen=sent_length)\n",
    "embedded_docs  ## padding='pre' if we write post then the o will add in the last"
   ]
  },
  {
   "cell_type": "code",
   "execution_count": 14,
   "metadata": {},
   "outputs": [],
   "source": [
    "## feature representation \n",
    "\n",
    "dim=10  ## we are taking this as dimention in study we take 300 dimention\n"
   ]
  },
  {
   "cell_type": "code",
   "execution_count": 15,
   "metadata": {},
   "outputs": [],
   "source": [
    "## prepaering the model for compileing the sentences which we have\n",
    "model= Sequential()\n",
    "model.add(Embedding(voc_size,dim, input_length=sent_length))\n",
    "model.compile('adam','mse')"
   ]
  },
  {
   "cell_type": "code",
   "execution_count": 17,
   "metadata": {},
   "outputs": [
    {
     "name": "stdout",
     "output_type": "stream",
     "text": [
      "Model: \"sequential\"\n",
      "_________________________________________________________________\n",
      " Layer (type)                Output Shape              Param #   \n",
      "=================================================================\n",
      " embedding (Embedding)       (None, 8, 10)             100000    \n",
      "                                                                 \n",
      "=================================================================\n",
      "Total params: 100000 (390.62 KB)\n",
      "Trainable params: 100000 (390.62 KB)\n",
      "Non-trainable params: 0 (0.00 Byte)\n",
      "_________________________________________________________________\n"
     ]
    }
   ],
   "source": [
    "model.summary()"
   ]
  },
  {
   "cell_type": "code",
   "execution_count": 20,
   "metadata": {},
   "outputs": [
    {
     "name": "stdout",
     "output_type": "stream",
     "text": [
      "1/1 [==============================] - 0s 22ms/step\n"
     ]
    },
    {
     "data": {
      "text/plain": [
       "array([[[ 0.00264989, -0.04390817, -0.02665962,  0.04271128,\n",
       "          0.02591333,  0.003157  , -0.0015354 , -0.04173166,\n",
       "         -0.02360705,  0.04191423],\n",
       "        [ 0.00264989, -0.04390817, -0.02665962,  0.04271128,\n",
       "          0.02591333,  0.003157  , -0.0015354 , -0.04173166,\n",
       "         -0.02360705,  0.04191423],\n",
       "        [ 0.00264989, -0.04390817, -0.02665962,  0.04271128,\n",
       "          0.02591333,  0.003157  , -0.0015354 , -0.04173166,\n",
       "         -0.02360705,  0.04191423],\n",
       "        [ 0.00264989, -0.04390817, -0.02665962,  0.04271128,\n",
       "          0.02591333,  0.003157  , -0.0015354 , -0.04173166,\n",
       "         -0.02360705,  0.04191423],\n",
       "        [ 0.00562809,  0.01874361, -0.0433224 ,  0.0060956 ,\n",
       "         -0.02211093, -0.01831878,  0.01151104, -0.01508169,\n",
       "         -0.02108302,  0.04123933],\n",
       "        [ 0.01344544, -0.04267393,  0.02934175,  0.03861009,\n",
       "          0.0196299 , -0.01725626,  0.0262459 , -0.01706761,\n",
       "         -0.04846631,  0.02962359],\n",
       "        [ 0.04314   , -0.04646008,  0.0075805 ,  0.0184014 ,\n",
       "          0.03588757,  0.0321687 , -0.03447897, -0.04767285,\n",
       "         -0.00728194, -0.03879204],\n",
       "        [-0.00685654,  0.00171147, -0.01906048, -0.03762867,\n",
       "          0.02783587, -0.04542272, -0.01330932, -0.03577717,\n",
       "          0.0371549 , -0.0373065 ]],\n",
       "\n",
       "       [[ 0.00264989, -0.04390817, -0.02665962,  0.04271128,\n",
       "          0.02591333,  0.003157  , -0.0015354 , -0.04173166,\n",
       "         -0.02360705,  0.04191423],\n",
       "        [ 0.00264989, -0.04390817, -0.02665962,  0.04271128,\n",
       "          0.02591333,  0.003157  , -0.0015354 , -0.04173166,\n",
       "         -0.02360705,  0.04191423],\n",
       "        [ 0.00264989, -0.04390817, -0.02665962,  0.04271128,\n",
       "          0.02591333,  0.003157  , -0.0015354 , -0.04173166,\n",
       "         -0.02360705,  0.04191423],\n",
       "        [ 0.00264989, -0.04390817, -0.02665962,  0.04271128,\n",
       "          0.02591333,  0.003157  , -0.0015354 , -0.04173166,\n",
       "         -0.02360705,  0.04191423],\n",
       "        [ 0.00562809,  0.01874361, -0.0433224 ,  0.0060956 ,\n",
       "         -0.02211093, -0.01831878,  0.01151104, -0.01508169,\n",
       "         -0.02108302,  0.04123933],\n",
       "        [ 0.01344544, -0.04267393,  0.02934175,  0.03861009,\n",
       "          0.0196299 , -0.01725626,  0.0262459 , -0.01706761,\n",
       "         -0.04846631,  0.02962359],\n",
       "        [ 0.04314   , -0.04646008,  0.0075805 ,  0.0184014 ,\n",
       "          0.03588757,  0.0321687 , -0.03447897, -0.04767285,\n",
       "         -0.00728194, -0.03879204],\n",
       "        [ 0.01873079, -0.00416487, -0.01073318, -0.03423002,\n",
       "         -0.04130254, -0.02635504,  0.03021333,  0.01284063,\n",
       "         -0.03633539,  0.01085609]],\n",
       "\n",
       "       [[ 0.00264989, -0.04390817, -0.02665962,  0.04271128,\n",
       "          0.02591333,  0.003157  , -0.0015354 , -0.04173166,\n",
       "         -0.02360705,  0.04191423],\n",
       "        [ 0.00264989, -0.04390817, -0.02665962,  0.04271128,\n",
       "          0.02591333,  0.003157  , -0.0015354 , -0.04173166,\n",
       "         -0.02360705,  0.04191423],\n",
       "        [ 0.00264989, -0.04390817, -0.02665962,  0.04271128,\n",
       "          0.02591333,  0.003157  , -0.0015354 , -0.04173166,\n",
       "         -0.02360705,  0.04191423],\n",
       "        [ 0.00264989, -0.04390817, -0.02665962,  0.04271128,\n",
       "          0.02591333,  0.003157  , -0.0015354 , -0.04173166,\n",
       "         -0.02360705,  0.04191423],\n",
       "        [ 0.00562809,  0.01874361, -0.0433224 ,  0.0060956 ,\n",
       "         -0.02211093, -0.01831878,  0.01151104, -0.01508169,\n",
       "         -0.02108302,  0.04123933],\n",
       "        [-0.03440665, -0.02353648,  0.0305304 ,  0.0181675 ,\n",
       "          0.01882482, -0.02941731,  0.00549177, -0.04941374,\n",
       "         -0.02653525,  0.01975064],\n",
       "        [ 0.04314   , -0.04646008,  0.0075805 ,  0.0184014 ,\n",
       "          0.03588757,  0.0321687 , -0.03447897, -0.04767285,\n",
       "         -0.00728194, -0.03879204],\n",
       "        [-0.04189489,  0.03410583, -0.01602424, -0.01695542,\n",
       "         -0.0121628 , -0.04333997,  0.04843776,  0.03567437,\n",
       "         -0.02083817,  0.01472921]],\n",
       "\n",
       "       [[ 0.00264989, -0.04390817, -0.02665962,  0.04271128,\n",
       "          0.02591333,  0.003157  , -0.0015354 , -0.04173166,\n",
       "         -0.02360705,  0.04191423],\n",
       "        [ 0.00264989, -0.04390817, -0.02665962,  0.04271128,\n",
       "          0.02591333,  0.003157  , -0.0015354 , -0.04173166,\n",
       "         -0.02360705,  0.04191423],\n",
       "        [ 0.00264989, -0.04390817, -0.02665962,  0.04271128,\n",
       "          0.02591333,  0.003157  , -0.0015354 , -0.04173166,\n",
       "         -0.02360705,  0.04191423],\n",
       "        [-0.01925349,  0.00819613, -0.04361039, -0.02712812,\n",
       "          0.03542716,  0.01539833, -0.01518526,  0.04547064,\n",
       "          0.0441171 , -0.00675875],\n",
       "        [ 0.0065564 , -0.03764484,  0.00946342,  0.01729083,\n",
       "          0.04244007, -0.0290329 ,  0.02972328,  0.02089049,\n",
       "         -0.01923418, -0.03274714],\n",
       "        [-0.01325483,  0.02418495, -0.02061509,  0.04994151,\n",
       "         -0.00861024,  0.04468777,  0.04557122,  0.00152055,\n",
       "         -0.00942639, -0.04197059],\n",
       "        [ 0.00402745, -0.02399633, -0.01467898, -0.03171859,\n",
       "          0.00446345,  0.00325925, -0.00531989,  0.02599076,\n",
       "         -0.00867653,  0.02298863],\n",
       "        [-0.0233808 , -0.00450591, -0.01859112,  0.01918096,\n",
       "          0.03090261, -0.00523946, -0.04152037, -0.02133224,\n",
       "         -0.00202318,  0.00873278]],\n",
       "\n",
       "       [[ 0.00264989, -0.04390817, -0.02665962,  0.04271128,\n",
       "          0.02591333,  0.003157  , -0.0015354 , -0.04173166,\n",
       "         -0.02360705,  0.04191423],\n",
       "        [ 0.00264989, -0.04390817, -0.02665962,  0.04271128,\n",
       "          0.02591333,  0.003157  , -0.0015354 , -0.04173166,\n",
       "         -0.02360705,  0.04191423],\n",
       "        [ 0.00264989, -0.04390817, -0.02665962,  0.04271128,\n",
       "          0.02591333,  0.003157  , -0.0015354 , -0.04173166,\n",
       "         -0.02360705,  0.04191423],\n",
       "        [-0.01925349,  0.00819613, -0.04361039, -0.02712812,\n",
       "          0.03542716,  0.01539833, -0.01518526,  0.04547064,\n",
       "          0.0441171 , -0.00675875],\n",
       "        [ 0.0065564 , -0.03764484,  0.00946342,  0.01729083,\n",
       "          0.04244007, -0.0290329 ,  0.02972328,  0.02089049,\n",
       "         -0.01923418, -0.03274714],\n",
       "        [-0.01325483,  0.02418495, -0.02061509,  0.04994151,\n",
       "         -0.00861024,  0.04468777,  0.04557122,  0.00152055,\n",
       "         -0.00942639, -0.04197059],\n",
       "        [ 0.00402745, -0.02399633, -0.01467898, -0.03171859,\n",
       "          0.00446345,  0.00325925, -0.00531989,  0.02599076,\n",
       "         -0.00867653,  0.02298863],\n",
       "        [-0.04522225, -0.02981869, -0.03721603, -0.0024571 ,\n",
       "         -0.02267835, -0.02380068,  0.01444897,  0.04516513,\n",
       "          0.03366886, -0.01785986]],\n",
       "\n",
       "       [[ 0.00264989, -0.04390817, -0.02665962,  0.04271128,\n",
       "          0.02591333,  0.003157  , -0.0015354 , -0.04173166,\n",
       "         -0.02360705,  0.04191423],\n",
       "        [ 0.00264989, -0.04390817, -0.02665962,  0.04271128,\n",
       "          0.02591333,  0.003157  , -0.0015354 , -0.04173166,\n",
       "         -0.02360705,  0.04191423],\n",
       "        [ 0.00264989, -0.04390817, -0.02665962,  0.04271128,\n",
       "          0.02591333,  0.003157  , -0.0015354 , -0.04173166,\n",
       "         -0.02360705,  0.04191423],\n",
       "        [-0.01736047,  0.02990535, -0.02352977,  0.00438627,\n",
       "          0.04022935, -0.04449719, -0.04281769,  0.03547243,\n",
       "         -0.04678058,  0.01402375],\n",
       "        [ 0.00562809,  0.01874361, -0.0433224 ,  0.0060956 ,\n",
       "         -0.02211093, -0.01831878,  0.01151104, -0.01508169,\n",
       "         -0.02108302,  0.04123933],\n",
       "        [-0.01651676,  0.01567154,  0.01147036, -0.00660761,\n",
       "          0.01752399, -0.00203849,  0.04251348, -0.03038709,\n",
       "         -0.04109491,  0.02927793],\n",
       "        [ 0.04314   , -0.04646008,  0.0075805 ,  0.0184014 ,\n",
       "          0.03588757,  0.0321687 , -0.03447897, -0.04767285,\n",
       "         -0.00728194, -0.03879204],\n",
       "        [ 0.0222779 , -0.03024814, -0.01369274,  0.04375902,\n",
       "          0.02946304, -0.00431784,  0.04723902,  0.00751168,\n",
       "         -0.00188441,  0.01138584]],\n",
       "\n",
       "       [[ 0.00264989, -0.04390817, -0.02665962,  0.04271128,\n",
       "          0.02591333,  0.003157  , -0.0015354 , -0.04173166,\n",
       "         -0.02360705,  0.04191423],\n",
       "        [ 0.00264989, -0.04390817, -0.02665962,  0.04271128,\n",
       "          0.02591333,  0.003157  , -0.0015354 , -0.04173166,\n",
       "         -0.02360705,  0.04191423],\n",
       "        [ 0.00264989, -0.04390817, -0.02665962,  0.04271128,\n",
       "          0.02591333,  0.003157  , -0.0015354 , -0.04173166,\n",
       "         -0.02360705,  0.04191423],\n",
       "        [ 0.00264989, -0.04390817, -0.02665962,  0.04271128,\n",
       "          0.02591333,  0.003157  , -0.0015354 , -0.04173166,\n",
       "         -0.02360705,  0.04191423],\n",
       "        [-0.02694612, -0.00702242,  0.0182312 , -0.02945738,\n",
       "         -0.04268078, -0.04554515, -0.04298899, -0.00604439,\n",
       "         -0.04411636, -0.04414617],\n",
       "        [-0.01507692,  0.04752672,  0.04001227, -0.02595   ,\n",
       "          0.03930262,  0.01144391, -0.01897094, -0.01357282,\n",
       "         -0.04998523, -0.0411893 ],\n",
       "        [ 0.01068947, -0.04298271, -0.01734654,  0.03917539,\n",
       "         -0.0414067 , -0.03645318, -0.03404311,  0.01145619,\n",
       "          0.01938858, -0.0169291 ],\n",
       "        [ 0.00402745, -0.02399633, -0.01467898, -0.03171859,\n",
       "          0.00446345,  0.00325925, -0.00531989,  0.02599076,\n",
       "         -0.00867653,  0.02298863]]], dtype=float32)"
      ]
     },
     "execution_count": 20,
     "metadata": {},
     "output_type": "execute_result"
    }
   ],
   "source": [
    "## predicted as word embedding\n",
    "model.predict(embedded_docs)"
   ]
  },
  {
   "cell_type": "code",
   "execution_count": 21,
   "metadata": {},
   "outputs": [
    {
     "data": {
      "text/plain": [
       "array([   0,    0,    0,    0, 3844, 3148, 6662, 7607], dtype=int32)"
      ]
     },
     "execution_count": 21,
     "metadata": {},
     "output_type": "execute_result"
    }
   ],
   "source": [
    "embedded_docs[0]"
   ]
  },
  {
   "cell_type": "code",
   "execution_count": 22,
   "metadata": {},
   "outputs": [
    {
     "name": "stdout",
     "output_type": "stream",
     "text": [
      "1/1 [==============================] - 0s 43ms/step\n"
     ]
    },
    {
     "data": {
      "text/plain": [
       "array([[ 0.00264989, -0.04390817, -0.02665962,  0.04271128,  0.02591333,\n",
       "         0.003157  , -0.0015354 , -0.04173166, -0.02360705,  0.04191423],\n",
       "       [ 0.00264989, -0.04390817, -0.02665962,  0.04271128,  0.02591333,\n",
       "         0.003157  , -0.0015354 , -0.04173166, -0.02360705,  0.04191423],\n",
       "       [ 0.00264989, -0.04390817, -0.02665962,  0.04271128,  0.02591333,\n",
       "         0.003157  , -0.0015354 , -0.04173166, -0.02360705,  0.04191423],\n",
       "       [ 0.00264989, -0.04390817, -0.02665962,  0.04271128,  0.02591333,\n",
       "         0.003157  , -0.0015354 , -0.04173166, -0.02360705,  0.04191423],\n",
       "       [ 0.00562809,  0.01874361, -0.0433224 ,  0.0060956 , -0.02211093,\n",
       "        -0.01831878,  0.01151104, -0.01508169, -0.02108302,  0.04123933],\n",
       "       [ 0.01344544, -0.04267393,  0.02934175,  0.03861009,  0.0196299 ,\n",
       "        -0.01725626,  0.0262459 , -0.01706761, -0.04846631,  0.02962359],\n",
       "       [ 0.04314   , -0.04646008,  0.0075805 ,  0.0184014 ,  0.03588757,\n",
       "         0.0321687 , -0.03447897, -0.04767285, -0.00728194, -0.03879204],\n",
       "       [-0.00685654,  0.00171147, -0.01906048, -0.03762867,  0.02783587,\n",
       "        -0.04542272, -0.01330932, -0.03577717,  0.0371549 , -0.0373065 ]],\n",
       "      dtype=float32)"
      ]
     },
     "execution_count": 22,
     "metadata": {},
     "output_type": "execute_result"
    }
   ],
   "source": [
    "model.predict(embedded_docs[0])"
   ]
  },
  {
   "cell_type": "code",
   "execution_count": null,
   "metadata": {},
   "outputs": [],
   "source": []
  },
  {
   "cell_type": "code",
   "execution_count": null,
   "metadata": {},
   "outputs": [],
   "source": []
  },
  {
   "cell_type": "code",
   "execution_count": null,
   "metadata": {},
   "outputs": [],
   "source": []
  },
  {
   "cell_type": "code",
   "execution_count": null,
   "metadata": {},
   "outputs": [],
   "source": []
  },
  {
   "cell_type": "code",
   "execution_count": null,
   "metadata": {},
   "outputs": [],
   "source": []
  },
  {
   "cell_type": "code",
   "execution_count": null,
   "metadata": {},
   "outputs": [],
   "source": []
  },
  {
   "cell_type": "code",
   "execution_count": null,
   "metadata": {},
   "outputs": [],
   "source": []
  },
  {
   "cell_type": "code",
   "execution_count": null,
   "metadata": {},
   "outputs": [],
   "source": []
  },
  {
   "cell_type": "code",
   "execution_count": null,
   "metadata": {},
   "outputs": [],
   "source": []
  },
  {
   "cell_type": "code",
   "execution_count": null,
   "metadata": {},
   "outputs": [],
   "source": []
  },
  {
   "cell_type": "code",
   "execution_count": null,
   "metadata": {},
   "outputs": [],
   "source": []
  },
  {
   "cell_type": "code",
   "execution_count": null,
   "metadata": {},
   "outputs": [],
   "source": []
  },
  {
   "cell_type": "code",
   "execution_count": null,
   "metadata": {},
   "outputs": [],
   "source": []
  },
  {
   "cell_type": "code",
   "execution_count": null,
   "metadata": {},
   "outputs": [],
   "source": []
  },
  {
   "cell_type": "code",
   "execution_count": null,
   "metadata": {},
   "outputs": [],
   "source": []
  },
  {
   "cell_type": "code",
   "execution_count": null,
   "metadata": {},
   "outputs": [],
   "source": []
  },
  {
   "cell_type": "code",
   "execution_count": null,
   "metadata": {},
   "outputs": [],
   "source": []
  },
  {
   "cell_type": "code",
   "execution_count": null,
   "metadata": {},
   "outputs": [],
   "source": []
  },
  {
   "cell_type": "code",
   "execution_count": null,
   "metadata": {},
   "outputs": [],
   "source": []
  },
  {
   "cell_type": "code",
   "execution_count": null,
   "metadata": {},
   "outputs": [],
   "source": []
  },
  {
   "cell_type": "code",
   "execution_count": null,
   "metadata": {},
   "outputs": [],
   "source": []
  },
  {
   "cell_type": "code",
   "execution_count": null,
   "metadata": {},
   "outputs": [],
   "source": []
  },
  {
   "cell_type": "code",
   "execution_count": null,
   "metadata": {},
   "outputs": [],
   "source": []
  },
  {
   "cell_type": "code",
   "execution_count": null,
   "metadata": {},
   "outputs": [],
   "source": []
  },
  {
   "cell_type": "code",
   "execution_count": null,
   "metadata": {},
   "outputs": [],
   "source": []
  },
  {
   "cell_type": "code",
   "execution_count": null,
   "metadata": {},
   "outputs": [],
   "source": []
  },
  {
   "cell_type": "code",
   "execution_count": null,
   "metadata": {},
   "outputs": [],
   "source": []
  },
  {
   "cell_type": "code",
   "execution_count": null,
   "metadata": {},
   "outputs": [],
   "source": []
  },
  {
   "cell_type": "code",
   "execution_count": null,
   "metadata": {},
   "outputs": [],
   "source": []
  },
  {
   "cell_type": "code",
   "execution_count": null,
   "metadata": {},
   "outputs": [],
   "source": []
  },
  {
   "cell_type": "code",
   "execution_count": null,
   "metadata": {},
   "outputs": [],
   "source": []
  },
  {
   "cell_type": "code",
   "execution_count": null,
   "metadata": {},
   "outputs": [],
   "source": []
  },
  {
   "cell_type": "code",
   "execution_count": null,
   "metadata": {},
   "outputs": [],
   "source": []
  },
  {
   "cell_type": "code",
   "execution_count": null,
   "metadata": {},
   "outputs": [],
   "source": []
  },
  {
   "cell_type": "code",
   "execution_count": null,
   "metadata": {},
   "outputs": [],
   "source": []
  },
  {
   "cell_type": "code",
   "execution_count": null,
   "metadata": {},
   "outputs": [],
   "source": []
  },
  {
   "cell_type": "code",
   "execution_count": null,
   "metadata": {},
   "outputs": [],
   "source": []
  },
  {
   "cell_type": "code",
   "execution_count": null,
   "metadata": {},
   "outputs": [],
   "source": []
  },
  {
   "cell_type": "code",
   "execution_count": null,
   "metadata": {},
   "outputs": [],
   "source": []
  },
  {
   "cell_type": "code",
   "execution_count": null,
   "metadata": {},
   "outputs": [],
   "source": []
  },
  {
   "cell_type": "code",
   "execution_count": null,
   "metadata": {},
   "outputs": [],
   "source": []
  },
  {
   "cell_type": "code",
   "execution_count": null,
   "metadata": {},
   "outputs": [],
   "source": []
  },
  {
   "cell_type": "code",
   "execution_count": null,
   "metadata": {},
   "outputs": [],
   "source": []
  },
  {
   "cell_type": "code",
   "execution_count": null,
   "metadata": {},
   "outputs": [],
   "source": []
  },
  {
   "cell_type": "code",
   "execution_count": null,
   "metadata": {},
   "outputs": [],
   "source": []
  },
  {
   "cell_type": "code",
   "execution_count": null,
   "metadata": {},
   "outputs": [],
   "source": []
  },
  {
   "cell_type": "code",
   "execution_count": null,
   "metadata": {},
   "outputs": [],
   "source": []
  },
  {
   "cell_type": "code",
   "execution_count": null,
   "metadata": {},
   "outputs": [],
   "source": []
  },
  {
   "cell_type": "code",
   "execution_count": null,
   "metadata": {},
   "outputs": [],
   "source": []
  },
  {
   "cell_type": "code",
   "execution_count": null,
   "metadata": {},
   "outputs": [],
   "source": []
  },
  {
   "cell_type": "code",
   "execution_count": null,
   "metadata": {},
   "outputs": [],
   "source": []
  },
  {
   "cell_type": "code",
   "execution_count": null,
   "metadata": {},
   "outputs": [],
   "source": []
  }
 ],
 "metadata": {
  "kernelspec": {
   "display_name": "Python 3",
   "language": "python",
   "name": "python3"
  },
  "language_info": {
   "codemirror_mode": {
    "name": "ipython",
    "version": 3
   },
   "file_extension": ".py",
   "mimetype": "text/x-python",
   "name": "python",
   "nbconvert_exporter": "python",
   "pygments_lexer": "ipython3",
   "version": "3.11.0"
  }
 },
 "nbformat": 4,
 "nbformat_minor": 2
}
